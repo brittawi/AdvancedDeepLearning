{
 "cells": [
  {
   "cell_type": "code",
   "execution_count": 1,
   "metadata": {},
   "outputs": [],
   "source": [
    "import torch\n",
    "from torch.utils.data import DataLoader, TensorDataset\n",
    "\n",
    "import lightning as L\n",
    "from lightning.pytorch.callbacks.early_stopping import EarlyStopping\n",
    "from lightning.pytorch.loggers import TensorBoardLogger\n",
    "\n",
    "from data_loading_code import getData, processUserInput\n",
    "from model import NeuralNet, LitNet"
   ]
  },
  {
   "cell_type": "code",
   "execution_count": 2,
   "metadata": {},
   "outputs": [
    {
     "name": "stdout",
     "output_type": "stream",
     "text": [
      "Train data: torch.Size([900, 7277])\n",
      "Train labels: torch.Size([900])\n",
      "Validation data: torch.Size([100, 7277])\n",
      "Validation labels: torch.Size([100])\n",
      "Vocab size: 7277\n",
      "Successfully preprocessed the data\n"
     ]
    }
   ],
   "source": [
    "# get the preprocessed Data\n",
    "x_train, y_train, x_val, y_val, vocabsize, word_vectorizer = getData(\"amazon_cells_labelled.txt\")"
   ]
  },
  {
   "cell_type": "code",
   "execution_count": null,
   "metadata": {},
   "outputs": [],
   "source": [
    "# hyperparameters\n",
    "EPOCHS = 5\n",
    "BATCH_SIZE = 10\n",
    "LEARNING_RATE = 0.001\n",
    "INPUT_SIZE = vocabsize\n",
    "HIDDEN_SIZE = 3\n",
    "NUM_CLASSES = 2 # we only have two classes ?!\n",
    "\n",
    "#device = torch.device('cuda' if torch.cuda.is_available() else 'cpu')"
   ]
  },
  {
   "cell_type": "code",
   "execution_count": null,
   "metadata": {},
   "outputs": [],
   "source": [
    "# put data into Dataloaders\n",
    "train_loader = DataLoader(TensorDataset(x_train, y_train), batch_size=BATCH_SIZE, shuffle=True)\n",
    "val_loader = DataLoader(TensorDataset(x_val, y_val), batch_size=BATCH_SIZE, shuffle=False)"
   ]
  },
  {
   "cell_type": "code",
   "execution_count": null,
   "metadata": {},
   "outputs": [],
   "source": [
    "# initialise neural Net\n",
    "model = NeuralNet(INPUT_SIZE, HIDDEN_SIZE, NUM_CLASSES)\n",
    "litModel = LitNet(model)\n",
    "\n",
    "# initialise logger\n",
    "logger = TensorBoardLogger(\"tb_logs\", name=\"chatBotModel\")\n",
    "\n",
    "# intialise Trainer\n",
    "trainer = L.Trainer(max_epochs=30, \n",
    "                    callbacks=[EarlyStopping(monitor=\"val_loss\", mode=\"min\")],\n",
    "                    accelerator=\"auto\",\n",
    "                    devices=(1 if torch.cuda.is_available() else None),\n",
    "                    logger=logger,\n",
    "                    fast_dev_run=True)\n",
    "\n",
    "# train the model\n",
    "trainer.fit(litModel, train_dataloaders=train_loader, val_dataloaders=val_loader)"
   ]
  },
  {
   "cell_type": "code",
   "execution_count": 3,
   "metadata": {},
   "outputs": [
    {
     "name": "stdout",
     "output_type": "stream",
     "text": [
      "tensor([[0., 0., 0.,  ..., 0., 0., 0.]])\n"
     ]
    }
   ],
   "source": [
    "# chatBot\n",
    "print(processUserInput(\"Hallo dies ist ein Test\", word_vectorizer))"
   ]
  }
 ],
 "metadata": {
  "kernelspec": {
   "display_name": "nnlm",
   "language": "python",
   "name": "python3"
  },
  "language_info": {
   "codemirror_mode": {
    "name": "ipython",
    "version": 3
   },
   "file_extension": ".py",
   "mimetype": "text/x-python",
   "name": "python",
   "nbconvert_exporter": "python",
   "pygments_lexer": "ipython3",
   "version": "3.8.18"
  }
 },
 "nbformat": 4,
 "nbformat_minor": 2
}
